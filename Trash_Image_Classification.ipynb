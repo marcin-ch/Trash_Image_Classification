{
  "nbformat": 4,
  "nbformat_minor": 0,
  "metadata": {
    "colab": {
      "name": "Trash_Image_Classification.ipynb",
      "provenance": [],
      "collapsed_sections": []
    },
    "kernelspec": {
      "name": "python3",
      "display_name": "Python 3"
    }
  },
  "cells": [
    {
      "cell_type": "markdown",
      "metadata": {
        "colab_type": "text",
        "id": "m7KBpffWzlxH"
      },
      "source": [
        "\n",
        "\n",
        "---\n",
        "\n",
        "\n",
        "### Import TensorFlow and helper libraries\n",
        "\n",
        "\n",
        "---\n",
        "\n"
      ]
    },
    {
      "cell_type": "code",
      "metadata": {
        "colab_type": "code",
        "id": "iAve6DCL4JH4",
        "colab": {}
      },
      "source": [
        "import tensorflow as tf\n",
        "\n",
        "from tensorflow.keras import datasets, layers, models\n",
        "import matplotlib.pyplot as plt\n",
        "import numpy as np\n",
        "import os\n",
        "import cv2"
      ],
      "execution_count": 0,
      "outputs": []
    },
    {
      "cell_type": "markdown",
      "metadata": {
        "id": "Bl0rXZQ1vN0V",
        "colab_type": "text"
      },
      "source": [
        "\n",
        "\n",
        "---\n",
        "\n",
        "\n",
        "### Check TensorFlow (tested with 2.2.0-rc2)\n",
        "\n",
        "\n",
        "---\n",
        "\n"
      ]
    },
    {
      "cell_type": "code",
      "metadata": {
        "id": "aF-xbs3Uw2gY",
        "colab_type": "code",
        "colab": {}
      },
      "source": [
        "print(tf.__version__)"
      ],
      "execution_count": 0,
      "outputs": []
    },
    {
      "cell_type": "markdown",
      "metadata": {
        "colab_type": "text",
        "id": "g0mgghsMxl9x"
      },
      "source": [
        "\n",
        "\n",
        "---\n",
        "\n",
        "\n",
        "### Check Python (tested with 3.6.9)\n",
        "\n",
        "\n",
        "---\n",
        "\n"
      ]
    },
    {
      "cell_type": "code",
      "metadata": {
        "id": "pQ-cFpPTx4eP",
        "colab_type": "code",
        "colab": {}
      },
      "source": [
        "from platform import python_version\n",
        "print(python_version())"
      ],
      "execution_count": 0,
      "outputs": []
    },
    {
      "cell_type": "markdown",
      "metadata": {
        "id": "u7eNHeX8JiJu",
        "colab_type": "text"
      },
      "source": [
        "\n",
        "\n",
        "---\n",
        "\n",
        "\n",
        "### Upload dataset to Colab and unzip\n",
        "\n",
        "Upload = clone whole repository which contains zipped dataset.\n",
        "\n",
        "After unzipping, your dataset should be available from **/content** folder:\n",
        "* ***train*** folder - */content/dataset_trash/train*\n",
        "* ***test*** folder - */content/dataset_trash/test*\n",
        "\n",
        "\n",
        "---\n",
        "\n"
      ]
    },
    {
      "cell_type": "code",
      "metadata": {
        "id": "XvteOQES4R-r",
        "colab_type": "code",
        "colab": {}
      },
      "source": [
        "!git clone https://github.com/marcin-ch/Trash_Image_Classification.git"
      ],
      "execution_count": 0,
      "outputs": []
    },
    {
      "cell_type": "code",
      "metadata": {
        "id": "w8K-9TCpK9tL",
        "colab_type": "code",
        "colab": {}
      },
      "source": [
        "!unzip /content/Trash_Image_Classification/dataset_trash.zip #when your zipped dataset is in CONTENT folder"
      ],
      "execution_count": 0,
      "outputs": []
    },
    {
      "cell_type": "code",
      "metadata": {
        "id": "0sJohxc4-ytJ",
        "colab_type": "code",
        "colab": {}
      },
      "source": [
        "print(os.getcwd())"
      ],
      "execution_count": 0,
      "outputs": []
    },
    {
      "cell_type": "markdown",
      "metadata": {
        "id": "gB3YbcEPyTjU",
        "colab_type": "text"
      },
      "source": [
        "\n",
        "\n",
        "---\n",
        "\n",
        "\n",
        "### Create arrays with images and labels\n",
        "\n",
        "\n",
        "---\n",
        "\n"
      ]
    },
    {
      "cell_type": "code",
      "metadata": {
        "id": "wBXkmvM0sRS6",
        "colab_type": "code",
        "colab": {}
      },
      "source": [
        "#TRAIN IMAGES\n",
        "train_images = []\n",
        "train_labels = []\n",
        "shape = (32,32)\n",
        "\n",
        "for i in os.listdir('/content/dataset_trash/train'):\n",
        "        img = cv2.imread(os.path.join('/content/dataset_trash/train',i))\n",
        "        if i.split('.')[1] =='jpg':\n",
        "            #print(i)\n",
        "            img2 = cv2.resize(img,shape)\n",
        "            img2 = cv2.cvtColor(img2, cv2.COLOR_BGR2RGB) #changing from BGR to RGB (OpenCV uses BGR, matplotlib for displaying uses RGB)\n",
        "            train_images.append(img2)\n",
        "            train_labels.append(i.split('_')[0])"
      ],
      "execution_count": 0,
      "outputs": []
    },
    {
      "cell_type": "code",
      "metadata": {
        "id": "A_ldjwGusRSy",
        "colab_type": "code",
        "colab": {}
      },
      "source": [
        "#TEST IMAGES\n",
        "test_images = []\n",
        "test_labels = []\n",
        "\n",
        "for i in os.listdir('/content/dataset_trash/test'):\n",
        "        img = cv2.imread(os.path.join('/content/dataset_trash/test',i))\n",
        "        if i.split('.')[1] == 'jpg':\n",
        "            #print(i)\n",
        "            img2 = cv2.resize(img,shape)\n",
        "            img2 = cv2.cvtColor(img2, cv2.COLOR_BGR2RGB)\n",
        "            test_images.append(img2)\n",
        "            test_labels.append(i.split('_')[0])"
      ],
      "execution_count": 0,
      "outputs": []
    },
    {
      "cell_type": "markdown",
      "metadata": {
        "colab_type": "text",
        "id": "OzRd_g0WRvgl"
      },
      "source": [
        "\n",
        "\n",
        "---\n",
        "\n",
        "\n",
        "### Verify the data **TRAINING** dataset\n",
        "\n",
        "To verify that the dataset looks correct, let's plot the first 10 images from the **training** set and display the class name below each image.\n",
        "\n",
        "\n",
        "---\n",
        "\n",
        "\n"
      ]
    },
    {
      "cell_type": "code",
      "metadata": {
        "id": "shGvwklcsRTA",
        "colab_type": "code",
        "colab": {}
      },
      "source": [
        "plt.imshow(train_images[0])\n",
        "plt.title(train_labels[0])\n",
        "\n",
        "plt.figure(figsize=(20,20))\n",
        "for i in range(10):\n",
        "    plt.subplot(1,10,i+1)\n",
        "    plt.xticks([])\n",
        "    plt.yticks([])\n",
        "    plt.grid(False)\n",
        "    #visualize train images\n",
        "    plt.imshow(train_images[i], cmap=plt.cm.binary)\n",
        "\n",
        "    plt.xlabel(train_labels[i])\n",
        "    plt.ylabel(i)\n",
        "plt.show()"
      ],
      "execution_count": 0,
      "outputs": []
    },
    {
      "cell_type": "markdown",
      "metadata": {
        "colab_type": "text",
        "id": "ICrQrASDihbb"
      },
      "source": [
        "\n",
        "\n",
        "---\n",
        "\n",
        "\n",
        "### Verify the data **TESTING** dataset\n",
        "\n",
        "To verify that the dataset looks correct, let's plot the first 10 images from the **testing** set and display the class name below each image.\n",
        "\n",
        "\n",
        "---\n",
        "\n",
        "\n"
      ]
    },
    {
      "cell_type": "code",
      "metadata": {
        "colab_type": "code",
        "id": "jIS38PLpiqjf",
        "colab": {}
      },
      "source": [
        "plt.imshow(test_images[0])\n",
        "plt.title(test_labels[0])\n",
        "\n",
        "plt.figure(figsize=(20,20))\n",
        "for i in range(10):\n",
        "    plt.subplot(1,10,i+1)\n",
        "    plt.xticks([])\n",
        "    plt.yticks([])\n",
        "    plt.grid(False)\n",
        "    #visualize test images\n",
        "    plt.imshow(test_images[i], cmap=plt.cm.binary)\n",
        "\n",
        "    plt.xlabel(test_labels[i])\n",
        "    plt.ylabel(i)\n",
        "plt.show()"
      ],
      "execution_count": 0,
      "outputs": []
    },
    {
      "cell_type": "markdown",
      "metadata": {
        "colab_type": "text",
        "id": "DSNBCu-5USkh"
      },
      "source": [
        "\n",
        "\n",
        "---\n",
        "\n",
        "\n",
        "### Convert **images** to Numpy and normalize values to be between 0 and 1\n",
        "\n",
        "\n",
        "---\n",
        "\n"
      ]
    },
    {
      "cell_type": "code",
      "metadata": {
        "id": "A9iZocGFsRTS",
        "colab_type": "code",
        "colab": {}
      },
      "source": [
        "train_images = np.array(train_images)\n",
        "print(\"TRAIN shape\", train_images.shape)\n",
        "\n",
        "test_images = np.array(test_images)\n",
        "print(\"TEST shape\", test_images.shape)\n",
        "\n",
        "train_images, test_images = train_images / 255.0, test_images / 255.0 #Normalize pixel values to be between 0 and 1"
      ],
      "execution_count": 0,
      "outputs": []
    },
    {
      "cell_type": "markdown",
      "metadata": {
        "id": "6t8fhCKrt82U",
        "colab_type": "text"
      },
      "source": [
        "\n",
        "\n",
        "---\n",
        "\n",
        "\n",
        "### Convert **labels** to Numpy and change names of trash (strings) to coresponding integers\n",
        "\n",
        "* `cardboard` -> `0`\n",
        "* `glass` -> `1`\n",
        "* `metal` -> `2`\n",
        "* `paper` -> `3`\n",
        "* `plastic` -> `4`\n",
        "* `trash` -> `5`\n",
        "\n",
        "\n",
        "---\n",
        "\n"
      ]
    },
    {
      "cell_type": "code",
      "metadata": {
        "id": "ixGaEy7pj4rm",
        "colab_type": "code",
        "colab": {}
      },
      "source": [
        "print(\"* * * * * * TRAIN LABELS * * * * *\")\n",
        "#print(train_labels)\n",
        "train_labels = np.array(train_labels)\n",
        "train_labels[train_labels == \"cardboard\"] = 0\n",
        "train_labels[train_labels == \"glass\"] = 1\n",
        "train_labels[train_labels == \"metal\"] = 2\n",
        "train_labels[train_labels == \"paper\"] = 3\n",
        "train_labels[train_labels == \"plastic\"] = 4\n",
        "train_labels[train_labels == \"trash\"] = 5 #after this modification arrays is string type and can not be used in model training\n",
        "print(\"Data type of the array train_labels is:\", train_labels.dtype)\n",
        "\n",
        "train_labels = train_labels.astype(int) #changing type to int\n",
        "print(\"New type of the array train_labels is: \", train_labels.dtype)\n",
        "\n",
        "print(\"Shape of train_labels is: \", train_labels.shape)\n",
        "#print(train_labels)\n",
        "\n",
        "print(\"\\n* * * * * * TEST LABELS * * * * *\")\n",
        "#print(test_labels)\n",
        "test_labels = np.array(test_labels)\n",
        "test_labels[test_labels == \"cardboard\"] = 0\n",
        "test_labels[test_labels == \"glass\"] = 1\n",
        "test_labels[test_labels == \"metal\"] = 2\n",
        "test_labels[test_labels == \"paper\"] = 3\n",
        "test_labels[test_labels == \"plastic\"] = 4\n",
        "test_labels[test_labels == \"trash\"] = 5\n",
        "print(\"Data type of the array test_labels is:\", test_labels.dtype)\n",
        "\n",
        "test_labels = test_labels.astype(int)\n",
        "print(\"New type of the array test_labels is: \", test_labels.dtype)\n",
        "\n",
        "print(\"Shape of test_labels is: \", test_labels.shape)\n",
        "#print(test_labels)"
      ],
      "execution_count": 0,
      "outputs": []
    },
    {
      "cell_type": "markdown",
      "metadata": {
        "colab_type": "text",
        "id": "egvJydnBUroi"
      },
      "source": [
        "\n",
        "\n",
        "---\n",
        "\n",
        "\n",
        "### Define the class names, input shape and number of outputs\n",
        "\n",
        "\n",
        "---\n",
        "\n"
      ]
    },
    {
      "cell_type": "code",
      "metadata": {
        "id": "dwtk0wtAsRTW",
        "colab_type": "code",
        "colab": {}
      },
      "source": [
        "class_names = ['cardboard', 'glass', 'metal', 'paper', 'plastic', 'trash'] #corresponds with cardboard->0, glass->1, metal->2, paper->3, plastic->4, trash->5\n",
        "\n",
        "input_shape = train_images[0].shape\n",
        "print(\"INPUT_SHAPE\", input_shape)\n",
        "\n",
        "output = len(class_names)\n",
        "print(\"OUTPUT CLASSES\", output)"
      ],
      "execution_count": 0,
      "outputs": []
    },
    {
      "cell_type": "markdown",
      "metadata": {
        "colab_type": "text",
        "id": "Oewp-wYg31t9"
      },
      "source": [
        "\n",
        "\n",
        "---\n",
        "\n",
        "\n",
        "### Create the convolutional base\n",
        "\n",
        "\n",
        "---\n",
        "\n"
      ]
    },
    {
      "cell_type": "code",
      "metadata": {
        "colab_type": "code",
        "id": "L9YmGQBQPrdn",
        "colab": {}
      },
      "source": [
        "model = models.Sequential()\n",
        "model.add(layers.Conv2D(32, (3, 3), activation='relu', input_shape=input_shape))\n",
        "model.add(layers.MaxPooling2D((2, 2)))\n",
        "model.add(layers.Dropout(0.2))\n",
        "\n",
        "model.add(layers.Conv2D(64, (3, 3), activation='relu'))\n",
        "model.add(layers.MaxPooling2D((2, 2)))\n",
        "model.add(layers.Dropout(0.2))\n",
        "\n",
        "model.add(layers.Conv2D(64, (3, 3), activation='relu'))\n",
        "model.add(layers.Dropout(0.2))\n",
        "\n",
        "model.add(layers.Flatten())\n",
        "model.add(layers.Dense(64, activation='relu'))\n",
        "model.add(layers.Dropout(0.2))\n",
        "model.add(layers.Dense(output))\n",
        "\n",
        "model.summary()"
      ],
      "execution_count": 0,
      "outputs": []
    },
    {
      "cell_type": "markdown",
      "metadata": {
        "colab_type": "text",
        "id": "P3odqfHP4M67"
      },
      "source": [
        "\n",
        "\n",
        "---\n",
        "\n",
        "\n",
        "### Compile and train the model\n",
        "https://www.tensorflow.org/js/guide/train_models#optimizer_loss_and_metric\n",
        "\n",
        "\n",
        "---\n",
        "\n"
      ]
    },
    {
      "cell_type": "code",
      "metadata": {
        "colab_type": "code",
        "id": "MdDzI75PUXrG",
        "colab": {}
      },
      "source": [
        "model.compile(optimizer='adam',\n",
        "              loss=tf.keras.losses.SparseCategoricalCrossentropy(from_logits=True),\n",
        "              metrics=['accuracy'])\n",
        "\n",
        "history = model.fit(train_images, train_labels, epochs=50, \n",
        "                    validation_data=(test_images, test_labels))"
      ],
      "execution_count": 0,
      "outputs": []
    },
    {
      "cell_type": "markdown",
      "metadata": {
        "colab_type": "text",
        "id": "jKgyC5K_4O0d"
      },
      "source": [
        "\n",
        "\n",
        "---\n",
        "\n",
        "\n",
        "### Evaluate the model\n",
        "\n",
        "\n",
        "---\n",
        "\n"
      ]
    },
    {
      "cell_type": "code",
      "metadata": {
        "id": "PWVLvwEYv14N",
        "colab_type": "code",
        "colab": {}
      },
      "source": [
        "#model.metrics_names"
      ],
      "execution_count": 0,
      "outputs": []
    },
    {
      "cell_type": "code",
      "metadata": {
        "id": "KQlId4zZOZgr",
        "colab_type": "code",
        "colab": {}
      },
      "source": [
        "plt.plot(history.history['accuracy'], label='accuracy')\n",
        "plt.plot(history.history['val_accuracy'], label = 'val_accuracy')\n",
        "plt.xlabel('Epoch')\n",
        "plt.ylabel('Accuracy')\n",
        "plt.ylim([0.0, 1])\n",
        "plt.legend(loc='lower right')\n",
        "#plt.xticks(range(2)) #refers to number of epochs\n",
        "\n",
        "test_loss, test_acc = model.evaluate(test_images, test_labels, verbose=2)\n",
        "print('\\nTest accuracy:', test_acc)"
      ],
      "execution_count": 0,
      "outputs": []
    },
    {
      "cell_type": "markdown",
      "metadata": {
        "id": "J_RhYkDwTdjT",
        "colab_type": "text"
      },
      "source": [
        "\n",
        "\n",
        "---\n",
        "\n",
        "\n",
        "### Add Softmax layer\n",
        "https://www.tensorflow.org/tutorials/keras/classification#make_predictions\n",
        "\n",
        "With the model trained, you can use it to make predictions about some images. The model's linear outputs, [logits](https://developers.google.com/machine-learning/glossary#logits). Attach a softmax layer to convert the logits to probabilities, which are easier to interpret.\n",
        "\n",
        "\n",
        "---\n",
        "\n"
      ]
    },
    {
      "cell_type": "code",
      "metadata": {
        "id": "RpXcboBV5Q6z",
        "colab_type": "code",
        "colab": {}
      },
      "source": [
        "probability_model = tf.keras.Sequential([model, tf.keras.layers.Softmax()])\n",
        "\n",
        "probability_model.summary()"
      ],
      "execution_count": 0,
      "outputs": []
    },
    {
      "cell_type": "markdown",
      "metadata": {
        "id": "iT4ZO9ERUxD2",
        "colab_type": "text"
      },
      "source": [
        "\n",
        "\n",
        "---\n",
        "\n",
        "\n",
        "### Make predictions\n",
        "\n",
        "\n",
        "---\n",
        "\n"
      ]
    },
    {
      "cell_type": "code",
      "metadata": {
        "id": "rIDijpzUTQr1",
        "colab_type": "code",
        "colab": {}
      },
      "source": [
        "predictions = probability_model.predict(test_images)"
      ],
      "execution_count": 0,
      "outputs": []
    },
    {
      "cell_type": "markdown",
      "metadata": {
        "id": "bpyOmfhcKh_L",
        "colab_type": "text"
      },
      "source": [
        "\n",
        "\n",
        "---\n",
        "\n",
        "\n",
        "### Verify predictions\n",
        "https://www.tensorflow.org/tutorials/keras/classification#verify_predictions\n",
        "\n",
        "Correct prediction labels are blue and incorrect prediction labels are red. The number gives the percentage (out of 100) for the predicted label.\n",
        "\n",
        "---\n",
        "\n"
      ]
    },
    {
      "cell_type": "code",
      "metadata": {
        "id": "9vudc0csKzrc",
        "colab_type": "code",
        "colab": {}
      },
      "source": [
        "#Helper functions for drawing graphs\n",
        "\n",
        "def plot_image(i, predictions_array, true_label, img):\n",
        "  predictions_array, true_label, img = predictions_array, true_label[i], img[i]\n",
        "  plt.grid(False)\n",
        "  plt.xticks([])\n",
        "  plt.yticks([])\n",
        "\n",
        "  plt.imshow(img, cmap=plt.cm.binary)\n",
        "\n",
        "  predicted_label = np.argmax(predictions_array)\n",
        "  if predicted_label == true_label:\n",
        "    color = 'blue'\n",
        "  else:\n",
        "    color = 'red'\n",
        "\n",
        "  plt.xlabel(\"{} {:2.0f}% ({})\".format(class_names[predicted_label],\n",
        "                                100*np.max(predictions_array),\n",
        "                                class_names[true_label]),\n",
        "                                color=color)\n",
        "\n",
        "def plot_value_array(i, predictions_array, true_label):\n",
        "  predictions_array, true_label = predictions_array, true_label[i]\n",
        "  plt.grid(True) #MCH\n",
        "  #plt.grid(False)\n",
        "  plt.xticks(range(6), class_names, rotation=75, fontsize=12) #MCH\n",
        "  #plt.xticks(range(10))\n",
        "  #plt.yticks([]) #MCH Passing an empty list removes all yticks\n",
        "  thisplot = plt.bar(range(6), predictions_array*100, color=\"#777777\")\n",
        "  plt.ylim([0, 100]) #MCH\n",
        "  #plt.ylim([0, 1])\n",
        "  predicted_label = np.argmax(predictions_array)\n",
        "\n",
        "  thisplot[predicted_label].set_color('red')\n",
        "  thisplot[true_label].set_color('blue')"
      ],
      "execution_count": 0,
      "outputs": []
    },
    {
      "cell_type": "code",
      "metadata": {
        "id": "I4n4VlCa6n_q",
        "colab_type": "code",
        "colab": {}
      },
      "source": [
        "# Plot the first X test images, their predicted labels, and the true labels.\n",
        "# Color correct predictions in blue and incorrect predictions in red.\n",
        "num_rows = 15\n",
        "num_cols = 4\n",
        "num_images = num_rows*num_cols\n",
        "plt.figure(figsize=(2*2*num_cols, 2*num_rows))\n",
        "for i in range(num_images): #for next batch use range(60,120); range(120,180) and so on\n",
        "  plt.subplot(num_rows, 2*num_cols, 2*i+1) #for next batch use 2*(i-60)+1; 2*(i-120)+1 and so on\n",
        "  plot_image(i, predictions[i], test_labels, test_images)\n",
        "  plt.ylabel(i)\n",
        "  plt.subplot(num_rows, 2*num_cols, 2*i+2) #for next batch use 2*(i-60)+2; 2*(i-120)+2 and so on\n",
        "  plot_value_array(i, predictions[i], test_labels)\n",
        "plt.tight_layout()\n",
        "plt.show()"
      ],
      "execution_count": 0,
      "outputs": []
    },
    {
      "cell_type": "markdown",
      "metadata": {
        "colab_type": "text",
        "id": "PJWg7CbIGbhx"
      },
      "source": [
        "\n",
        "\n",
        "---\n",
        "\n",
        "\n",
        "### Save the model HDF5 format\n",
        "https://www.tensorflow.org/tutorials/keras/save_and_load#hdf5_format\n",
        "\n",
        "Keras saves models by inspecting the architecture. This technique saves everything:\n",
        "* The weight values\n",
        "* The model's architecture\n",
        "* The model's training configuration(what you passed to compile)\n",
        "* The optimizer and its state, if any (this enables you to restart training where you left)\n",
        "\n",
        "Keras models are usually saved via `model.save(filepath)`, which produces a single HDF5 (.h5) file containing both the model topology and the weights.\n",
        "\n",
        "https://www.tensorflow.org/js/tutorials/conversion/import_keras#step_1_convert_an_existing_keras_model_to_tfjs_layers_format\n",
        "\n",
        "\n",
        "---\n",
        "\n"
      ]
    },
    {
      "cell_type": "code",
      "metadata": {
        "id": "EdDTv6fOhkHX",
        "colab_type": "code",
        "colab": {}
      },
      "source": [
        "# Save the entire model to a HDF5 file.\n",
        "# The '.h5' extension indicates that the model should be saved to HDF5.\n",
        "\n",
        "probability_model.save('trash_image_classification.h5')"
      ],
      "execution_count": 0,
      "outputs": []
    }
  ]
}