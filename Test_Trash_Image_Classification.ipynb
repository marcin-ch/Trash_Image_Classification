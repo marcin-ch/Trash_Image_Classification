{
  "nbformat": 4,
  "nbformat_minor": 0,
  "metadata": {
    "colab": {
      "name": "Test_Trash_Image_Classification.ipynb",
      "provenance": [],
      "collapsed_sections": [],
      "toc_visible": true
    },
    "kernelspec": {
      "name": "python3",
      "display_name": "Python 3"
    }
  },
  "cells": [
    {
      "cell_type": "markdown",
      "metadata": {
        "colab_type": "text",
        "id": "m7KBpffWzlxH"
      },
      "source": [
        "\n",
        "\n",
        "---\n",
        "\n",
        "\n",
        "### Import TensorFlow and helper libraries\n",
        "\n",
        "\n",
        "---\n",
        "\n"
      ]
    },
    {
      "cell_type": "code",
      "metadata": {
        "colab_type": "code",
        "id": "iAve6DCL4JH4",
        "colab": {}
      },
      "source": [
        "import tensorflow as tf\n",
        "\n",
        "from tensorflow.keras import datasets, layers, models\n",
        "import matplotlib.pyplot as plt\n",
        "import numpy as np\n",
        "import os\n",
        "import cv2"
      ],
      "execution_count": 0,
      "outputs": []
    },
    {
      "cell_type": "markdown",
      "metadata": {
        "id": "u7eNHeX8JiJu",
        "colab_type": "text"
      },
      "source": [
        "\n",
        "\n",
        "---\n",
        "\n",
        "\n",
        "### Upload **Trash_Image_Classification** repository to Colab\n",
        "\n",
        "Upload = clone whole repository which contains zipped dataset (for this notebook only test images will be used) and saved model (.h5).\n",
        "\n",
        "Saved model should be available from:\n",
        "* ***trash_image_classification.h5*** - */content/Trash_Image_Classification/trash_image_classification.h5*\n",
        "\n",
        "After unzipping, your dataset should be available from **/content** folder:\n",
        "* ***train*** folder - */content/dataset_trash/train*\n",
        "* ***test*** folder - */content/dataset_trash/test*\n",
        "\n",
        "\n",
        "---\n",
        "\n"
      ]
    },
    {
      "cell_type": "code",
      "metadata": {
        "id": "XvteOQES4R-r",
        "colab_type": "code",
        "colab": {}
      },
      "source": [
        "!git clone https://github.com/marcin-ch/Trash_Image_Classification.git"
      ],
      "execution_count": 0,
      "outputs": []
    },
    {
      "cell_type": "code",
      "metadata": {
        "id": "w8K-9TCpK9tL",
        "colab_type": "code",
        "colab": {}
      },
      "source": [
        "!unzip /content/Trash_Image_Classification/dataset_trash.zip #when your zipped dataset is in CONTENT folder"
      ],
      "execution_count": 0,
      "outputs": []
    },
    {
      "cell_type": "markdown",
      "metadata": {
        "id": "gB3YbcEPyTjU",
        "colab_type": "text"
      },
      "source": [
        "\n",
        "\n",
        "---\n",
        "\n",
        "\n",
        "### Create arrays with images and labels\n",
        "\n",
        "\n",
        "---\n",
        "\n"
      ]
    },
    {
      "cell_type": "code",
      "metadata": {
        "id": "A_ldjwGusRSy",
        "colab_type": "code",
        "colab": {}
      },
      "source": [
        "#TEST IMAGES\n",
        "test_images = []\n",
        "test_labels = []\n",
        "shape = (32,32)\n",
        "\n",
        "for i in os.listdir('/content/dataset_trash/test'):\n",
        "        img = cv2.imread(os.path.join('/content/dataset_trash/test',i))\n",
        "        if i.split('.')[1] == 'jpg':\n",
        "            #print(i)\n",
        "            img2 = cv2.resize(img,shape)\n",
        "            img2 = cv2.cvtColor(img2, cv2.COLOR_BGR2RGB)\n",
        "            test_images.append(img2)\n",
        "            test_labels.append(i.split('_')[0])"
      ],
      "execution_count": 0,
      "outputs": []
    },
    {
      "cell_type": "markdown",
      "metadata": {
        "colab_type": "text",
        "id": "DSNBCu-5USkh"
      },
      "source": [
        "\n",
        "\n",
        "---\n",
        "\n",
        "\n",
        "### Convert **images** to Numpy and normalize values to be between 0 and 1\n",
        "\n",
        "\n",
        "---\n",
        "\n"
      ]
    },
    {
      "cell_type": "code",
      "metadata": {
        "id": "A9iZocGFsRTS",
        "colab_type": "code",
        "colab": {}
      },
      "source": [
        "test_images = np.array(test_images)\n",
        "print(\"TEST shape\", test_images.shape)\n",
        "\n",
        "test_images = test_images / 255.0 #Normalize pixel values to be between 0 and 1"
      ],
      "execution_count": 0,
      "outputs": []
    },
    {
      "cell_type": "markdown",
      "metadata": {
        "id": "6t8fhCKrt82U",
        "colab_type": "text"
      },
      "source": [
        "\n",
        "\n",
        "---\n",
        "\n",
        "\n",
        "### Convert **labels** to Numpy and change names of trash (strings) to coresponding integers\n",
        "\n",
        "* `cardboard` -> `0`\n",
        "* `glass` -> `1`\n",
        "* `metal` -> `2`\n",
        "* `paper` -> `3`\n",
        "* `plastic` -> `4`\n",
        "* `trash` -> `5`\n",
        "\n",
        "\n",
        "---\n",
        "\n"
      ]
    },
    {
      "cell_type": "code",
      "metadata": {
        "id": "ixGaEy7pj4rm",
        "colab_type": "code",
        "colab": {}
      },
      "source": [
        "print(\"\\n* * * * * * TEST LABELS * * * * *\")\n",
        "#print(test_labels)\n",
        "test_labels = np.array(test_labels)\n",
        "test_labels[test_labels == \"cardboard\"] = 0\n",
        "test_labels[test_labels == \"glass\"] = 1\n",
        "test_labels[test_labels == \"metal\"] = 2\n",
        "test_labels[test_labels == \"paper\"] = 3\n",
        "test_labels[test_labels == \"plastic\"] = 4\n",
        "test_labels[test_labels == \"trash\"] = 5\n",
        "print(\"Data type of the array test_labels is:\", test_labels.dtype)\n",
        "\n",
        "test_labels = test_labels.astype(int)\n",
        "print(\"New type of the array test_labels is: \", test_labels.dtype)\n",
        "\n",
        "print(\"Shape of test_labels is: \", test_labels.shape)\n",
        "#print(test_labels)"
      ],
      "execution_count": 0,
      "outputs": []
    },
    {
      "cell_type": "markdown",
      "metadata": {
        "colab_type": "text",
        "id": "egvJydnBUroi"
      },
      "source": [
        "\n",
        "\n",
        "---\n",
        "\n",
        "\n",
        "### Define the class names\n",
        "\n",
        "\n",
        "---\n",
        "\n"
      ]
    },
    {
      "cell_type": "code",
      "metadata": {
        "id": "dwtk0wtAsRTW",
        "colab_type": "code",
        "colab": {}
      },
      "source": [
        "class_names = ['cardboard', 'glass', 'metal', 'paper', 'plastic', 'trash'] #corresponds with cardboard->0, glass->1, metal->2, paper->3, plastic->4, trash->5"
      ],
      "execution_count": 0,
      "outputs": []
    },
    {
      "cell_type": "markdown",
      "metadata": {
        "id": "iT4ZO9ERUxD2",
        "colab_type": "text"
      },
      "source": [
        "\n",
        "\n",
        "---\n",
        "\n",
        "\n",
        "### Load the saved model\n",
        "\n",
        "\n",
        "---\n",
        "\n"
      ]
    },
    {
      "cell_type": "code",
      "metadata": {
        "id": "dtn_HFv5QdkC",
        "colab_type": "code",
        "colab": {}
      },
      "source": [
        "loaded_model = tf.keras.models.load_model('/content/Trash_Image_Classification/trash_image_classification.h5')\n",
        "\n",
        "loaded_model.summary()"
      ],
      "execution_count": 0,
      "outputs": []
    },
    {
      "cell_type": "markdown",
      "metadata": {
        "colab_type": "text",
        "id": "J_qE9bpwQbdI"
      },
      "source": [
        "\n",
        "\n",
        "---\n",
        "\n",
        "\n",
        "### Make predictions\n",
        "\n",
        "\n",
        "---\n",
        "\n"
      ]
    },
    {
      "cell_type": "code",
      "metadata": {
        "id": "rIDijpzUTQr1",
        "colab_type": "code",
        "colab": {}
      },
      "source": [
        "predictions = loaded_model.predict(test_images)"
      ],
      "execution_count": 0,
      "outputs": []
    },
    {
      "cell_type": "markdown",
      "metadata": {
        "id": "bpyOmfhcKh_L",
        "colab_type": "text"
      },
      "source": [
        "\n",
        "\n",
        "---\n",
        "\n",
        "\n",
        "### Verify predictions\n",
        "https://www.tensorflow.org/tutorials/keras/classification#verify_predictions\n",
        "\n",
        "Correct prediction labels are blue and incorrect prediction labels are red. The number gives the percentage (out of 100) for the predicted label.\n",
        "\n",
        "---\n",
        "\n"
      ]
    },
    {
      "cell_type": "code",
      "metadata": {
        "id": "9vudc0csKzrc",
        "colab_type": "code",
        "colab": {}
      },
      "source": [
        "#Helper functions for drawing graphs\n",
        "\n",
        "def plot_image(i, predictions_array, true_label, img):\n",
        "  predictions_array, true_label, img = predictions_array, true_label[i], img[i]\n",
        "  plt.grid(False)\n",
        "  plt.xticks([])\n",
        "  plt.yticks([])\n",
        "\n",
        "  plt.imshow(img, cmap=plt.cm.binary)\n",
        "\n",
        "  predicted_label = np.argmax(predictions_array)\n",
        "  if predicted_label == true_label:\n",
        "    color = 'blue'\n",
        "  else:\n",
        "    color = 'red'\n",
        "\n",
        "  plt.xlabel(\"{} {:2.0f}% ({})\".format(class_names[predicted_label],\n",
        "                                100*np.max(predictions_array),\n",
        "                                class_names[true_label]),\n",
        "                                color=color)\n",
        "\n",
        "def plot_value_array(i, predictions_array, true_label):\n",
        "  predictions_array, true_label = predictions_array, true_label[i]\n",
        "  plt.grid(True) #MCH\n",
        "  #plt.grid(False)\n",
        "  plt.xticks(range(6), class_names, rotation=75, fontsize=12) #MCH\n",
        "  #plt.xticks(range(10))\n",
        "  #plt.yticks([]) #MCH Passing an empty list removes all yticks\n",
        "  thisplot = plt.bar(range(6), predictions_array*100, color=\"#777777\")\n",
        "  plt.ylim([0, 100]) #MCH\n",
        "  #plt.ylim([0, 1])\n",
        "  predicted_label = np.argmax(predictions_array)\n",
        "\n",
        "  thisplot[predicted_label].set_color('red')\n",
        "  thisplot[true_label].set_color('blue')"
      ],
      "execution_count": 0,
      "outputs": []
    },
    {
      "cell_type": "code",
      "metadata": {
        "id": "I4n4VlCa6n_q",
        "colab_type": "code",
        "colab": {}
      },
      "source": [
        "# Plot the first X test images, their predicted labels, and the true labels.\n",
        "# Color correct predictions in blue and incorrect predictions in red.\n",
        "num_rows = 15\n",
        "num_cols = 4\n",
        "num_images = num_rows*num_cols\n",
        "plt.figure(figsize=(2*2*num_cols, 2*num_rows))\n",
        "for i in range(num_images): #for next batch use range(60,120); range(120,180) and so on\n",
        "  plt.subplot(num_rows, 2*num_cols, 2*i+1) #for next batch use 2*(i-60)+1; 2*(i-120)+1 and so on\n",
        "  plot_image(i, predictions[i], test_labels, test_images)\n",
        "  plt.ylabel(i)\n",
        "  plt.subplot(num_rows, 2*num_cols, 2*i+2) #for next batch use 2*(i-60)+2; 2*(i-120)+2 and so on\n",
        "  plot_value_array(i, predictions[i], test_labels)\n",
        "plt.tight_layout()\n",
        "plt.show()"
      ],
      "execution_count": 0,
      "outputs": []
    }
  ]
}